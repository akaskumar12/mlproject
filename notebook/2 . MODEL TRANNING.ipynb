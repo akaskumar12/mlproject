{
 "cells": [
  {
   "cell_type": "markdown",
   "id": "db916dc3",
   "metadata": {},
   "source": []
  }
 ],
 "metadata": {
  "language_info": {
   "name": "python"
  }
 },
 "nbformat": 4,
 "nbformat_minor": 5
}
